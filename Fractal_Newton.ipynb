{
  "nbformat": 4,
  "nbformat_minor": 0,
  "metadata": {
    "colab": {
      "provenance": []
    },
    "kernelspec": {
      "name": "python3",
      "display_name": "Python 3"
    },
    "language_info": {
      "name": "python"
    }
  },
  "cells": [
    {
      "cell_type": "markdown",
      "source": [
        "# The Newton's Fractal\n",
        "## A boundary set in the complex plane which is characterized by Newton's method applied to a fixed polynomial p(S) ∈ ℂ[S] or transcendental function.\n",
        "> Created By: [Pedro Varela](https://github.com/pedro-varela1)\n",
        "\n",
        "<img src=\"https://drive.google.com/uc?id=1wkR69UuZ1grMLKO92iNDnRfUWwRLUsi2\"\n",
        "    style=\"width:500px; float: right; margin: 0 40px 40px 40px;\"></img>\n",
        "  \n",
        "![divider](https://webstockreview.net/images/divider-clipart-design-line-5.png)"
      ],
      "metadata": {
        "id": "LEzzzBkE_c7g"
      }
    },
    {
      "cell_type": "markdown",
      "source": [
        "Primeiramente, importamos as bibliotecas que iremos utilizar:"
      ],
      "metadata": {
        "id": "92jIr3OBA_Mp"
      }
    },
    {
      "cell_type": "code",
      "execution_count": 2,
      "metadata": {
        "id": "DxJ5Ir4D_Y7t"
      },
      "outputs": [],
      "source": [
        "import numpy as np\n",
        "import matplotlib.pyplot as plt\n",
        "from matplotlib.colors import ListedColormap"
      ]
    },
    {
      "cell_type": "markdown",
      "source": [
        "Vamos criar uma lista de cores para separar as raízes:"
      ],
      "metadata": {
        "id": "zpI-CpymBPP4"
      }
    },
    {
      "cell_type": "code",
      "source": [
        "colors = ['b', 'r', 'g']"
      ],
      "metadata": {
        "id": "Ltbv46ylBDIQ"
      },
      "execution_count": 3,
      "outputs": []
    },
    {
      "cell_type": "markdown",
      "source": [
        "E um valor que representa a tolerância (erro máximo possível) para a definição das raízes no método de Newton-Raphson:"
      ],
      "metadata": {
        "id": "fxpJE6wiBVbe"
      }
    },
    {
      "cell_type": "code",
      "source": [
        "error_max = 1.e-8"
      ],
      "metadata": {
        "id": "_9yyfOIEBUoi"
      },
      "execution_count": 4,
      "outputs": []
    },
    {
      "cell_type": "markdown",
      "source": [
        "Vamos aplicar o método de Newton-Raphson a f(z), através da criação de uma função:\n",
        "\n"
      ],
      "metadata": {
        "id": "pIaaRSrNCd68"
      }
    },
    {
      "cell_type": "code",
      "source": [
        "def newton(s0, f, f_der, MAX_IT=1000):\n",
        "    s = s0 #Chute Inicial\n",
        "    for i in range(MAX_IT): #MAX_IT: Número máximo de Iterações\n",
        "        ds = f(s)/f_der(s)\n",
        "        if abs(ds) < error_max:\n",
        "            return s\n",
        "        s -= ds\n",
        "    return False #Para a não convergência"
      ],
      "metadata": {
        "id": "lzW2QKBqCWpB"
      },
      "execution_count": 11,
      "outputs": []
    },
    {
      "cell_type": "markdown",
      "source": [
        "Além disso, é necessária uma função para plotar os gráficos com a biblioteca matplotlib:"
      ],
      "metadata": {
        "id": "sRlTzB0ADkkd"
      }
    },
    {
      "cell_type": "code",
      "source": [
        "def plot_newton_fractal(f, f_der, n=200, domain=(-2, 2, -2, 2)):\n",
        "    roots = [] #Raízes\n",
        "    m = np.zeros((n, n)) \n",
        "\n",
        "    def get_root_index(roots, r): #Retorna o index das raízes no interior do domínio\n",
        "        try:\n",
        "            return np.where(np.isclose(roots, r, atol=error_max))[0][0]\n",
        "        except IndexError:\n",
        "            roots.append(r)\n",
        "            return len(roots) - 1\n",
        "\n",
        "    xmin, xmax, ymin, ymax = domain #Delimitações do domínio\n",
        "    for ix, x in enumerate(np.linspace(xmin, xmax, n)):\n",
        "        for iy, y in enumerate(np.linspace(ymin, ymax, n)):\n",
        "            s0 = x + y*1j\n",
        "            r = newton(s0, f, f_der)\n",
        "            if r is not False:\n",
        "                ir = get_root_index(roots, r)\n",
        "                m[iy, ix] = ir\n",
        "    nroots = len(roots)\n",
        "    if nroots > len(colors):\n",
        "        cmap = 'hsv'\n",
        "    else:\n",
        "        cmap = ListedColormap(colors[:nroots])\n",
        "\n",
        "    plt.imshow(m, cmap=cmap, origin='lower')\n",
        "    plt.axis('off')\n",
        "    plt.show()\n"
      ],
      "metadata": {
        "id": "pF84X1uVDV7k"
      },
      "execution_count": 12,
      "outputs": []
    },
    {
      "cell_type": "markdown",
      "source": [
        "Por fim, utilizando as funções anteriormente criadas, é possível visualizar o Fractal de Newton do polinômio:"
      ],
      "metadata": {
        "id": "a5CznqICEwuS"
      }
    },
    {
      "cell_type": "code",
      "source": [
        "f = lambda s: s**3 - 1   #Polinômio\n",
        "f_der = lambda s: 3*s**2   #Derivada do Polinômio\n",
        "\n",
        "plot_newton_fractal(f, f_der, n=500)"
      ],
      "metadata": {
        "colab": {
          "base_uri": "https://localhost:8080/",
          "height": 406
        },
        "id": "nukxPz-HEsog",
        "outputId": "600ca5ed-5845-4aa6-90d6-badba15f227b"
      },
      "execution_count": 13,
      "outputs": [
        {
          "output_type": "display_data",
          "data": {
            "text/plain": [
              "<Figure size 640x480 with 1 Axes>"
            ],
            "image/png": "[encoded data removed]"
          },
          "metadata": {}
        }
      ]
    }
  ]
}